{
  "nbformat": 4,
  "nbformat_minor": 0,
  "metadata": {
    "colab": {
      "name": "4-LSTM_Financial_news.ipynb",
      "provenance": []
    },
    "kernelspec": {
      "name": "python3",
      "display_name": "Python 3"
    },
    "language_info": {
      "name": "python"
    }
  },
  "cells": [
    {
      "cell_type": "code",
      "metadata": {
        "id": "m1CXKKTX1F5l"
      },
      "source": [
        "import gensim\n",
        "import numpy as np\n",
        "import matplotlib.pyplot as plt\n",
        "import pandas as pd\n",
        "import re\n",
        "import seaborn as sns\n",
        "\n",
        "from gensim.models import Doc2Vec\n",
        "from gensim.models.doc2vec import TaggedDocument\n",
        "from keras.preprocessing.text import Tokenizer\n",
        "from keras.preprocessing.sequence import pad_sequences\n",
        "from sklearn import utils\n",
        "from sklearn.model_selection import train_test_split\n",
        "from sklearn.linear_model import LogisticRegression\n",
        "from tqdm import tqdm\n",
        "tqdm.pandas(desc=\"progress-bar\")\n"
      ],
      "execution_count": 1,
      "outputs": []
    },
    {
      "cell_type": "markdown",
      "metadata": {
        "id": "7MMLpODD1cFQ"
      },
      "source": [
        "## Data"
      ]
    },
    {
      "cell_type": "code",
      "metadata": {
        "id": "N-6EDwtt1dK5",
        "colab": {
          "base_uri": "https://localhost:8080/",
          "height": 528
        },
        "outputId": "dcedb446-9158-4213-e2df-f8e592605605"
      },
      "source": [
        "from google.colab import drive\n",
        "drive.mount('/content/drive')\n",
        "pd.set_option(\"display.max_colwidth\", -1)\n",
        "df = pd.read_csv('/content/drive/MyDrive/MFE230T1-2021/class_notebooks/5-Deep_Learning-Keras/all-data.csv',delimiter=',',encoding='latin-1', header=None)\n",
        "df = df.rename(columns={0:'Sentiment',1:'Message'})\n",
        "df.head(10)"
      ],
      "execution_count": 2,
      "outputs": [
        {
          "output_type": "stream",
          "text": [
            "Mounted at /content/drive\n"
          ],
          "name": "stdout"
        },
        {
          "output_type": "stream",
          "text": [
            "/usr/local/lib/python3.7/dist-packages/ipykernel_launcher.py:3: FutureWarning: Passing a negative integer is deprecated in version 1.0 and will not be supported in future version. Instead, use None to not limit the column width.\n",
            "  This is separate from the ipykernel package so we can avoid doing imports until\n"
          ],
          "name": "stderr"
        },
        {
          "output_type": "execute_result",
          "data": {
            "text/html": [
              "<div>\n",
              "<style scoped>\n",
              "    .dataframe tbody tr th:only-of-type {\n",
              "        vertical-align: middle;\n",
              "    }\n",
              "\n",
              "    .dataframe tbody tr th {\n",
              "        vertical-align: top;\n",
              "    }\n",
              "\n",
              "    .dataframe thead th {\n",
              "        text-align: right;\n",
              "    }\n",
              "</style>\n",
              "<table border=\"1\" class=\"dataframe\">\n",
              "  <thead>\n",
              "    <tr style=\"text-align: right;\">\n",
              "      <th></th>\n",
              "      <th>Sentiment</th>\n",
              "      <th>Message</th>\n",
              "    </tr>\n",
              "  </thead>\n",
              "  <tbody>\n",
              "    <tr>\n",
              "      <th>0</th>\n",
              "      <td>neutral</td>\n",
              "      <td>According to Gran , the company has no plans to move all production to Russia , although that is where the company is growing .</td>\n",
              "    </tr>\n",
              "    <tr>\n",
              "      <th>1</th>\n",
              "      <td>neutral</td>\n",
              "      <td>Technopolis plans to develop in stages an area of no less than 100,000 square meters in order to host companies working in computer technologies and telecommunications , the statement said .</td>\n",
              "    </tr>\n",
              "    <tr>\n",
              "      <th>2</th>\n",
              "      <td>negative</td>\n",
              "      <td>The international electronic industry company Elcoteq has laid off tens of employees from its Tallinn facility ; contrary to earlier layoffs the company contracted the ranks of its office workers , the daily Postimees reported .</td>\n",
              "    </tr>\n",
              "    <tr>\n",
              "      <th>3</th>\n",
              "      <td>positive</td>\n",
              "      <td>With the new production plant the company would increase its capacity to meet the expected increase in demand and would improve the use of raw materials and therefore increase the production profitability .</td>\n",
              "    </tr>\n",
              "    <tr>\n",
              "      <th>4</th>\n",
              "      <td>positive</td>\n",
              "      <td>According to the company 's updated strategy for the years 2009-2012 , Basware targets a long-term net sales growth in the range of 20 % -40 % with an operating profit margin of 10 % -20 % of net sales .</td>\n",
              "    </tr>\n",
              "    <tr>\n",
              "      <th>5</th>\n",
              "      <td>positive</td>\n",
              "      <td>FINANCING OF ASPOCOMP 'S GROWTH Aspocomp is aggressively pursuing its growth strategy by increasingly focusing on technologically more demanding HDI printed circuit boards PCBs .</td>\n",
              "    </tr>\n",
              "    <tr>\n",
              "      <th>6</th>\n",
              "      <td>positive</td>\n",
              "      <td>For the last quarter of 2010 , Componenta 's net sales doubled to EUR131m from EUR76m for the same period a year earlier , while it moved to a zero pre-tax profit from a pre-tax loss of EUR7m .</td>\n",
              "    </tr>\n",
              "    <tr>\n",
              "      <th>7</th>\n",
              "      <td>positive</td>\n",
              "      <td>In the third quarter of 2010 , net sales increased by 5.2 % to EUR 205.5 mn , and operating profit by 34.9 % to EUR 23.5 mn .</td>\n",
              "    </tr>\n",
              "    <tr>\n",
              "      <th>8</th>\n",
              "      <td>positive</td>\n",
              "      <td>Operating profit rose to EUR 13.1 mn from EUR 8.7 mn in the corresponding period in 2007 representing 7.7 % of net sales .</td>\n",
              "    </tr>\n",
              "    <tr>\n",
              "      <th>9</th>\n",
              "      <td>positive</td>\n",
              "      <td>Operating profit totalled EUR 21.1 mn , up from EUR 18.6 mn in 2007 , representing 9.7 % of net sales .</td>\n",
              "    </tr>\n",
              "  </tbody>\n",
              "</table>\n",
              "</div>"
            ],
            "text/plain": [
              "  Sentiment                                                                                                                                                                                                                               Message\n",
              "0  neutral   According to Gran , the company has no plans to move all production to Russia , although that is where the company is growing .                                                                                                     \n",
              "1  neutral   Technopolis plans to develop in stages an area of no less than 100,000 square meters in order to host companies working in computer technologies and telecommunications , the statement said .                                      \n",
              "2  negative  The international electronic industry company Elcoteq has laid off tens of employees from its Tallinn facility ; contrary to earlier layoffs the company contracted the ranks of its office workers , the daily Postimees reported .\n",
              "3  positive  With the new production plant the company would increase its capacity to meet the expected increase in demand and would improve the use of raw materials and therefore increase the production profitability .                      \n",
              "4  positive  According to the company 's updated strategy for the years 2009-2012 , Basware targets a long-term net sales growth in the range of 20 % -40 % with an operating profit margin of 10 % -20 % of net sales .                         \n",
              "5  positive  FINANCING OF ASPOCOMP 'S GROWTH Aspocomp is aggressively pursuing its growth strategy by increasingly focusing on technologically more demanding HDI printed circuit boards PCBs .                                                  \n",
              "6  positive  For the last quarter of 2010 , Componenta 's net sales doubled to EUR131m from EUR76m for the same period a year earlier , while it moved to a zero pre-tax profit from a pre-tax loss of EUR7m .                                   \n",
              "7  positive  In the third quarter of 2010 , net sales increased by 5.2 % to EUR 205.5 mn , and operating profit by 34.9 % to EUR 23.5 mn .                                                                                                       \n",
              "8  positive  Operating profit rose to EUR 13.1 mn from EUR 8.7 mn in the corresponding period in 2007 representing 7.7 % of net sales .                                                                                                          \n",
              "9  positive  Operating profit totalled EUR 21.1 mn , up from EUR 18.6 mn in 2007 , representing 9.7 % of net sales .                                                                                                                             "
            ]
          },
          "metadata": {},
          "execution_count": 2
        }
      ]
    },
    {
      "cell_type": "code",
      "metadata": {
        "id": "mKsnNai71v4q",
        "colab": {
          "base_uri": "https://localhost:8080/"
        },
        "outputId": "23cb6e93-8a57-4841-c2b8-dc6d984d3654"
      },
      "source": [
        "df.shape"
      ],
      "execution_count": 3,
      "outputs": [
        {
          "output_type": "execute_result",
          "data": {
            "text/plain": [
              "(4846, 2)"
            ]
          },
          "metadata": {},
          "execution_count": 3
        }
      ]
    },
    {
      "cell_type": "markdown",
      "metadata": {
        "id": "jSP97fcr2eyI"
      },
      "source": [
        "## Visualizing the Data and Preprocessing"
      ]
    },
    {
      "cell_type": "code",
      "metadata": {
        "id": "x8vmkcWn2gyC",
        "colab": {
          "base_uri": "https://localhost:8080/",
          "height": 372
        },
        "outputId": "ab3ff331-947a-4664-cef7-80df88740374"
      },
      "source": [
        "cnt_pro = df['Sentiment'].value_counts()\n",
        "plt.figure(figsize=(12,4))\n",
        "sns.barplot(cnt_pro.index, cnt_pro.values, alpha=0.8)\n",
        "plt.ylabel('Number of Occurrences', fontsize=12)\n",
        "plt.xlabel('sentiment', fontsize=12)\n",
        "plt.xticks(rotation=90)\n",
        "plt.show()"
      ],
      "execution_count": 4,
      "outputs": [
        {
          "output_type": "stream",
          "text": [
            "/usr/local/lib/python3.7/dist-packages/seaborn/_decorators.py:43: FutureWarning: Pass the following variables as keyword args: x, y. From version 0.12, the only valid positional argument will be `data`, and passing other arguments without an explicit keyword will result in an error or misinterpretation.\n",
            "  FutureWarning\n"
          ],
          "name": "stderr"
        },
        {
          "output_type": "display_data",
          "data": {
            "image/png": "[encoded data removed]",
            "text/plain": [
              "<Figure size 864x288 with 1 Axes>"
            ]
          },
          "metadata": {
            "needs_background": "light"
          }
        }
      ]
    },
    {
      "cell_type": "code",
      "metadata": {
        "id": "kCl993q82kaO",
        "colab": {
          "base_uri": "https://localhost:8080/",
          "height": 408
        },
        "outputId": "fe5ad023-3248-4860-dceb-e836b5825677"
      },
      "source": [
        "#Convert string to numeric\n",
        "#FIX this\n",
        "sentiment  = {'positive': 0,'neutral': 1,'negative':2} \n",
        "pd.set_option(\"display.max_colwidth\", -1)\n",
        "df.Sentiment = [sentiment[item] for item in df.Sentiment] \n",
        "df[['sentiment_0',  'sentiment_1'  ,'sentiment_2']] = pd.get_dummies(df.Sentiment, prefix='sentiment')\n",
        "df.head()"
      ],
      "execution_count": 5,
      "outputs": [
        {
          "output_type": "stream",
          "text": [
            "/usr/local/lib/python3.7/dist-packages/ipykernel_launcher.py:4: FutureWarning: Passing a negative integer is deprecated in version 1.0 and will not be supported in future version. Instead, use None to not limit the column width.\n",
            "  after removing the cwd from sys.path.\n"
          ],
          "name": "stderr"
        },
        {
          "output_type": "execute_result",
          "data": {
            "text/html": [
              "<div>\n",
              "<style scoped>\n",
              "    .dataframe tbody tr th:only-of-type {\n",
              "        vertical-align: middle;\n",
              "    }\n",
              "\n",
              "    .dataframe tbody tr th {\n",
              "        vertical-align: top;\n",
              "    }\n",
              "\n",
              "    .dataframe thead th {\n",
              "        text-align: right;\n",
              "    }\n",
              "</style>\n",
              "<table border=\"1\" class=\"dataframe\">\n",
              "  <thead>\n",
              "    <tr style=\"text-align: right;\">\n",
              "      <th></th>\n",
              "      <th>Sentiment</th>\n",
              "      <th>Message</th>\n",
              "      <th>sentiment_0</th>\n",
              "      <th>sentiment_1</th>\n",
              "      <th>sentiment_2</th>\n",
              "    </tr>\n",
              "  </thead>\n",
              "  <tbody>\n",
              "    <tr>\n",
              "      <th>0</th>\n",
              "      <td>1</td>\n",
              "      <td>According to Gran , the company has no plans to move all production to Russia , although that is where the company is growing .</td>\n",
              "      <td>0</td>\n",
              "      <td>1</td>\n",
              "      <td>0</td>\n",
              "    </tr>\n",
              "    <tr>\n",
              "      <th>1</th>\n",
              "      <td>1</td>\n",
              "      <td>Technopolis plans to develop in stages an area of no less than 100,000 square meters in order to host companies working in computer technologies and telecommunications , the statement said .</td>\n",
              "      <td>0</td>\n",
              "      <td>1</td>\n",
              "      <td>0</td>\n",
              "    </tr>\n",
              "    <tr>\n",
              "      <th>2</th>\n",
              "      <td>2</td>\n",
              "      <td>The international electronic industry company Elcoteq has laid off tens of employees from its Tallinn facility ; contrary to earlier layoffs the company contracted the ranks of its office workers , the daily Postimees reported .</td>\n",
              "      <td>0</td>\n",
              "      <td>0</td>\n",
              "      <td>1</td>\n",
              "    </tr>\n",
              "    <tr>\n",
              "      <th>3</th>\n",
              "      <td>0</td>\n",
              "      <td>With the new production plant the company would increase its capacity to meet the expected increase in demand and would improve the use of raw materials and therefore increase the production profitability .</td>\n",
              "      <td>1</td>\n",
              "      <td>0</td>\n",
              "      <td>0</td>\n",
              "    </tr>\n",
              "    <tr>\n",
              "      <th>4</th>\n",
              "      <td>0</td>\n",
              "      <td>According to the company 's updated strategy for the years 2009-2012 , Basware targets a long-term net sales growth in the range of 20 % -40 % with an operating profit margin of 10 % -20 % of net sales .</td>\n",
              "      <td>1</td>\n",
              "      <td>0</td>\n",
              "      <td>0</td>\n",
              "    </tr>\n",
              "  </tbody>\n",
              "</table>\n",
              "</div>"
            ],
            "text/plain": [
              "   Sentiment  ... sentiment_2\n",
              "0  1          ...  0         \n",
              "1  1          ...  0         \n",
              "2  2          ...  1         \n",
              "3  0          ...  0         \n",
              "4  0          ...  0         \n",
              "\n",
              "[5 rows x 5 columns]"
            ]
          },
          "metadata": {},
          "execution_count": 5
        }
      ]
    },
    {
      "cell_type": "code",
      "metadata": {
        "id": "u3pmEZX02uuc"
      },
      "source": [
        "from bs4 import BeautifulSoup\n",
        "def cleanText(text):\n",
        "    text = BeautifulSoup(text, \"lxml\").text\n",
        "    text = re.sub(r'\\|\\|\\|', r' ', text) \n",
        "    text = re.sub(r'http\\S+', r'<URL>', text)\n",
        "    text = text.lower()\n",
        "    text = text.replace('x', '')\n",
        "    return text\n",
        "df['Message'] = df['Message'].apply(cleanText)"
      ],
      "execution_count": 6,
      "outputs": []
    },
    {
      "cell_type": "code",
      "metadata": {
        "id": "HPvGTs3g3E6k",
        "colab": {
          "base_uri": "https://localhost:8080/"
        },
        "outputId": "c9ac1b20-3794-434a-de29-68c924e8102a"
      },
      "source": [
        "train, test = train_test_split(df, test_size=0.000001 , random_state=42)\n",
        "import nltk\n",
        "nltk.download('punkt')\n",
        "from nltk.corpus import stopwords\n",
        "def tokenize_text(text):\n",
        "    tokens = []\n",
        "    for sent in nltk.sent_tokenize(text):\n",
        "        for word in nltk.word_tokenize(sent):\n",
        "            if len(word) <= 0:\n",
        "                continue\n",
        "            tokens.append(word.lower())\n",
        "    return tokens\n",
        "train_tagged = train.apply(\n",
        "    lambda r: TaggedDocument(words=tokenize_text(r['Message']), tags=[r['sentiment_0'], r['sentiment_1'], r['sentiment_2']]), axis=1)\n",
        "\n",
        "print(train_tagged)\n",
        "# The maximum number of words to be used. (most frequent)\n",
        "max_features = 50000\n",
        "\n",
        "# Max number of words in each news.\n",
        "MAX_SEQUENCE_LENGTH = 128\n",
        "\n",
        "#tokenizer = Tokenizer(num_words=max_features, split=' ')\n",
        "tokenizer = Tokenizer(num_words=max_features, split=' ', filters='!\"#$%&()*+,-./:;<=>?@[\\]^_`{|}~', lower=True)\n",
        "tokenizer.fit_on_texts(train['Message'].values)\n",
        "X = tokenizer.texts_to_sequences(train['Message'].values)\n",
        "X = pad_sequences(X)\n",
        "print('Found %s unique tokens.' % len(X))\n",
        "print(X)"
      ],
      "execution_count": 7,
      "outputs": [
        {
          "output_type": "stream",
          "text": [
            "[nltk_data] Downloading package punkt to /root/nltk_data...\n",
            "[nltk_data]   Unzipping tokenizers/punkt.zip.\n",
            "1684    ([unc, charlotte, would, also, deploy, ssh, tectia, connector, to, enable, secure, application, connectivity, .], [0, 1, 0])                                                                                                                                                                      \n",
            "1044    ([in, 2009, ,, lee, &, man, had, a, combined, annual, production, capacity, of, close, to, 4.5, million, tonnes, of, paper, and, 300,000, tonnes, of, pulp, .], [0, 1, 0])                                                                                                                        \n",
            "4145    ([``, that, 's, a, very, high, figure, on, the, european, scale, ,, '', noop, said, ,, recalling, however, that, this, also, includes, beer, bought, by, finnish, tourists, .], [0, 1, 0])                                                                                                        \n",
            "1538    ([in, finland, ,, the, corresponding, service, is, alma, media, 's, etuovi.com, ,, finland, 's, most, popular, and, best, known, nationwide, online, service, for, home, and, property, sales, .], [0, 1, 0])                                                                                     \n",
            "1034    ([construction, is, scheduled, to, start, in, april-june, 2007, and, to, be, completed, in, early, 2008, .], [0, 1, 0])                                                                                                                                                                           \n",
            "                                                                 ...                                                                                                                                                                                                                                      \n",
            "4426    ([the, currency, effect, had, a, 3.0, pct, ,, or, 20, mln, euro, (, $, 31.3, mln, ), ,, negative, impact, on, the, revenue, .], [0, 0, 1])                                                                                                                                                        \n",
            "466     ([``, lidskoe, pivo, 's, investment, program, foresees, the, integrated, modernization, of, production, ,, updating, transport, and, logistics, infrastructure, and, developing, new, marketing, instruments, ,, '', mikshis, said, .], [1, 0, 0])                                                \n",
            "3092    ([products, include, consumer, electronics, devices, such, as, mobile, phones, and, their, accessories, ,, set-top, boes, ,, flat, panel, tvs, as, well, as, system, solutions, products, such, as, infrastructure, systems, ,, modules, and, other, industrial, segment, products, .], [0, 1, 0])\n",
            "3772    ([the, bridge, is, part, of, the, highway, 14, development, project, .], [0, 1, 0])                                                                                                                                                                                                               \n",
            "860     ([(, adp, news, ), -, oct, 1, ,, 2008, -, finnish, consulting, and, engineering, company, poyry, oyj, (, om, :, poy1v, ), said, today, it, was, awarded, a, eur, 5.2, million, (, usd, 7.4, m, ), etension, to, their, eisting, consultancy, engineering, contract, with, venezuel], [1, 0, 0])   \n",
            "Length: 4845, dtype: object\n",
            "Found 4845 unique tokens.\n",
            "[[    0     0     0 ...   524   525  1502]\n",
            " [    0     0     0 ...   553     2   458]\n",
            " [    0     0     0 ...    18    22  5012]\n",
            " ...\n",
            " [    0     0     0 ...   280   727    89]\n",
            " [    0     0     0 ...   192   140   157]\n",
            " [    0     0     0 ...    80    17 10106]]\n"
          ],
          "name": "stdout"
        }
      ]
    },
    {
      "cell_type": "code",
      "metadata": {
        "id": "s-PURCKh3nok",
        "colab": {
          "base_uri": "https://localhost:8080/"
        },
        "outputId": "5d097f59-9471-40a0-87b9-ead571e595e2"
      },
      "source": [
        "X = tokenizer.texts_to_sequences(df['Message'].values)\n",
        "X = pad_sequences(X, maxlen=MAX_SEQUENCE_LENGTH)\n",
        "print('Shape of data tensor:', X.shape)"
      ],
      "execution_count": 8,
      "outputs": [
        {
          "output_type": "stream",
          "text": [
            "Shape of data tensor: (4846, 128)\n"
          ],
          "name": "stdout"
        }
      ]
    },
    {
      "cell_type": "code",
      "metadata": {
        "id": "KdD8bjtU3I1k",
        "colab": {
          "base_uri": "https://localhost:8080/"
        },
        "outputId": "9b1cabea-aa24-402a-b324-475e27893910"
      },
      "source": [
        "## Doc2Vec word Embedding\n",
        "d2v_model = Doc2Vec(dm=1, dm_mean=1, size=25, window=5, min_count=1, workers=1, alpha=0.065, min_alpha=0.065)\n",
        "d2v_model.build_vocab([x for x in tqdm(train_tagged.values)])"
      ],
      "execution_count": 9,
      "outputs": [
        {
          "output_type": "stream",
          "text": [
            "/usr/local/lib/python3.7/dist-packages/gensim/models/doc2vec.py:570: UserWarning: The parameter `size` is deprecated, will be removed in 4.0.0, use `vector_size` instead.\n",
            "  warnings.warn(\"The parameter `size` is deprecated, will be removed in 4.0.0, use `vector_size` instead.\")\n",
            "100%|██████████| 4845/4845 [00:00<00:00, 1009608.65it/s]\n"
          ],
          "name": "stderr"
        }
      ]
    },
    {
      "cell_type": "code",
      "metadata": {
        "id": "6pJlwFqB3xkP",
        "colab": {
          "base_uri": "https://localhost:8080/"
        },
        "outputId": "15f0ab8b-de23-4659-8484-4e618d8ee722"
      },
      "source": [
        "%%time\n",
        "for epoch in range(30):\n",
        "    d2v_model.train(utils.shuffle([x for x in tqdm(train_tagged.values)]), total_examples=len(train_tagged.values), epochs=1)\n",
        "    d2v_model.alpha -= 0.002\n",
        "    d2v_model.min_alpha = d2v_model.alpha"
      ],
      "execution_count": 10,
      "outputs": [
        {
          "output_type": "stream",
          "text": [
            "100%|██████████| 4845/4845 [00:00<00:00, 1083750.35it/s]\n",
            "100%|██████████| 4845/4845 [00:00<00:00, 1306254.60it/s]\n",
            "100%|██████████| 4845/4845 [00:00<00:00, 2359113.41it/s]\n",
            "100%|██████████| 4845/4845 [00:00<00:00, 1195446.96it/s]\n",
            "100%|██████████| 4845/4845 [00:00<00:00, 2369290.30it/s]\n",
            "100%|██████████| 4845/4845 [00:00<00:00, 985089.09it/s]\n",
            "100%|██████████| 4845/4845 [00:00<00:00, 2512848.14it/s]\n",
            "100%|██████████| 4845/4845 [00:00<00:00, 2365153.97it/s]\n",
            "100%|██████████| 4845/4845 [00:00<00:00, 2453683.03it/s]\n",
            "100%|██████████| 4845/4845 [00:00<00:00, 2287930.97it/s]\n",
            "100%|██████████| 4845/4845 [00:00<00:00, 1261258.87it/s]\n",
            "100%|██████████| 4845/4845 [00:00<00:00, 769604.35it/s]\n",
            "100%|██████████| 4845/4845 [00:00<00:00, 1673921.16it/s]\n",
            "100%|██████████| 4845/4845 [00:00<00:00, 1223738.58it/s]\n",
            "100%|██████████| 4845/4845 [00:00<00:00, 1155544.35it/s]\n",
            "100%|██████████| 4845/4845 [00:00<00:00, 2347937.94it/s]\n",
            "100%|██████████| 4845/4845 [00:00<00:00, 2511605.84it/s]\n",
            "100%|██████████| 4845/4845 [00:00<00:00, 1341789.56it/s]\n",
            "100%|██████████| 4845/4845 [00:00<00:00, 1274468.67it/s]\n",
            "100%|██████████| 4845/4845 [00:00<00:00, 2395826.80it/s]\n",
            "100%|██████████| 4845/4845 [00:00<00:00, 877283.84it/s]\n",
            "100%|██████████| 4845/4845 [00:00<00:00, 1614860.37it/s]\n",
            "100%|██████████| 4845/4845 [00:00<00:00, 886352.46it/s]\n",
            "100%|██████████| 4845/4845 [00:00<00:00, 1155084.57it/s]\n",
            "100%|██████████| 4845/4845 [00:00<00:00, 1597594.57it/s]\n",
            "100%|██████████| 4845/4845 [00:00<00:00, 1065342.22it/s]\n",
            "100%|██████████| 4845/4845 [00:00<00:00, 2420078.94it/s]\n",
            "100%|██████████| 4845/4845 [00:00<00:00, 664445.56it/s]\n",
            "100%|██████████| 4845/4845 [00:00<00:00, 2466788.40it/s]\n",
            "100%|██████████| 4845/4845 [00:00<00:00, 2551337.46it/s]\n"
          ],
          "name": "stderr"
        },
        {
          "output_type": "stream",
          "text": [
            "CPU times: user 13.7 s, sys: 114 ms, total: 13.8 s\n",
            "Wall time: 14.1 s\n"
          ],
          "name": "stdout"
        }
      ]
    },
    {
      "cell_type": "code",
      "metadata": {
        "id": "PfznGu1u36h_",
        "colab": {
          "base_uri": "https://localhost:8080/"
        },
        "outputId": "b363122d-b99c-421e-e678-78e780915541"
      },
      "source": [
        "top = 10\n",
        "embedding_vector_length = 20\n",
        "# Save the vectors in a new matrix\n",
        "embedding_matrix = np.zeros((len(d2v_model.wv.vocab)+ 1, embedding_vector_length))\n",
        "\n",
        "for i, vec in enumerate(d2v_model.docvecs.vectors_docs):\n",
        "    while i in vec <= 1000:\n",
        "        embedding_matrix[i]=vec\n",
        "\n",
        "## Word Similarity\n",
        "d2v_model.wv.most_similar(positive=['profit'], topn=top)"
      ],
      "execution_count": 11,
      "outputs": [
        {
          "output_type": "execute_result",
          "data": {
            "text/plain": [
              "[('loss', 0.9091370105743408),\n",
              " ('profits', 0.8054261207580566),\n",
              " ('income', 0.7445743083953857),\n",
              " ('sacanfil', 0.7356542348861694),\n",
              " ('190mn', 0.6798214316368103),\n",
              " ('chopra', 0.6753429770469666),\n",
              " ('deramus', 0.6686542630195618),\n",
              " ('atul', 0.6624585390090942),\n",
              " ('26.9', 0.6575296521186829),\n",
              " ('eur928', 0.6553850769996643)]"
            ]
          },
          "metadata": {},
          "execution_count": 11
        }
      ]
    },
    {
      "cell_type": "markdown",
      "metadata": {
        "id": "vr65IL_Z3bpA"
      },
      "source": [
        "## LSTM Model"
      ]
    },
    {
      "cell_type": "code",
      "metadata": {
        "id": "EACcL3eZ3dU5",
        "colab": {
          "base_uri": "https://localhost:8080/"
        },
        "outputId": "e5442420-c975-4579-e97d-bd5509024fb4"
      },
      "source": [
        "from keras.models import Sequential\n",
        "from keras.layers import LSTM, Dense, Embedding, Dropout\n",
        "\n",
        "# init layer\n",
        "model = Sequential()\n",
        "\n",
        "\n",
        "# emmbed word vectors from word2vec\n",
        "model.add(Embedding(len(d2v_model.wv.vocab)+1, embedding_vector_length, input_length=X.shape[1], weights=[embedding_matrix],trainable=True))\n",
        "#model.add(Embedding(len(d2v_model.wv.vocab)+1, embedding_vector_length, input_length=X.shape[1]))\n",
        "\n",
        "# learn the correlations\n",
        "def split_input(sequence):\n",
        "     return sequence[:-1], tf.reshape(sequence[1:], (-1,1))\n",
        "model.add(LSTM(100, return_sequences=False))\n",
        "model.add(Dropout(0.1))\n",
        "model.add(Dense(3, activation=\"softmax\"))\n",
        "\n",
        "# output model skeleton\n",
        "model.summary()\n",
        "model.compile(optimizer=\"rmsprop\",loss=\"categorical_crossentropy\",metrics=['acc'])"
      ],
      "execution_count": 12,
      "outputs": [
        {
          "output_type": "stream",
          "text": [
            "Model: \"sequential\"\n",
            "_________________________________________________________________\n",
            "Layer (type)                 Output Shape              Param #   \n",
            "=================================================================\n",
            "embedding (Embedding)        (None, 128, 20)           233680    \n",
            "_________________________________________________________________\n",
            "lstm (LSTM)                  (None, 100)               48400     \n",
            "_________________________________________________________________\n",
            "dropout (Dropout)            (None, 100)               0         \n",
            "_________________________________________________________________\n",
            "dense (Dense)                (None, 3)                 303       \n",
            "=================================================================\n",
            "Total params: 282,383\n",
            "Trainable params: 282,383\n",
            "Non-trainable params: 0\n",
            "_________________________________________________________________\n"
          ],
          "name": "stdout"
        }
      ]
    },
    {
      "cell_type": "code",
      "metadata": {
        "id": "qadG51Gy3d3v",
        "colab": {
          "base_uri": "https://localhost:8080/"
        },
        "outputId": "80830902-7589-4f2c-b6f4-16aad09a356f"
      },
      "source": [
        "Y = pd.get_dummies(df['Sentiment']).values\n",
        "X_train, X_test, Y_train, Y_test = train_test_split(X,Y, test_size = 0.15, random_state = 42)\n",
        "print(X_train.shape,Y_train.shape)\n",
        "print(X_test.shape,Y_test.shape)"
      ],
      "execution_count": 13,
      "outputs": [
        {
          "output_type": "stream",
          "text": [
            "(4119, 128) (4119, 3)\n",
            "(727, 128) (727, 3)\n"
          ],
          "name": "stdout"
        }
      ]
    },
    {
      "cell_type": "code",
      "metadata": {
        "id": "zlIZID1q4VDI",
        "colab": {
          "base_uri": "https://localhost:8080/"
        },
        "outputId": "e0ae4337-ee38-492d-f3cb-6f739e0afe0c"
      },
      "source": [
        "batch_size = 32\n",
        "history=model.fit(X_train, Y_train, validation_split=0.1, epochs=20, batch_size=batch_size, verbose = 2)"
      ],
      "execution_count": 14,
      "outputs": [
        {
          "output_type": "stream",
          "text": [
            "Epoch 1/20\n",
            "116/116 - 15s - loss: 0.8752 - acc: 0.6253 - val_loss: 0.8025 - val_acc: 0.6408\n",
            "Epoch 2/20\n",
            "116/116 - 12s - loss: 0.6845 - acc: 0.6989 - val_loss: 0.7872 - val_acc: 0.6553\n",
            "Epoch 3/20\n",
            "116/116 - 12s - loss: 0.5580 - acc: 0.7623 - val_loss: 0.8035 - val_acc: 0.6626\n",
            "Epoch 4/20\n",
            "116/116 - 12s - loss: 0.4428 - acc: 0.8214 - val_loss: 0.8600 - val_acc: 0.6602\n",
            "Epoch 5/20\n",
            "116/116 - 12s - loss: 0.3456 - acc: 0.8748 - val_loss: 0.9044 - val_acc: 0.6796\n",
            "Epoch 6/20\n",
            "116/116 - 12s - loss: 0.2652 - acc: 0.9026 - val_loss: 0.9490 - val_acc: 0.6990\n",
            "Epoch 7/20\n",
            "116/116 - 12s - loss: 0.2190 - acc: 0.9231 - val_loss: 0.9318 - val_acc: 0.6845\n",
            "Epoch 8/20\n",
            "116/116 - 12s - loss: 0.1702 - acc: 0.9434 - val_loss: 1.1978 - val_acc: 0.6796\n",
            "Epoch 9/20\n",
            "116/116 - 12s - loss: 0.1398 - acc: 0.9525 - val_loss: 1.1065 - val_acc: 0.7015\n",
            "Epoch 10/20\n",
            "116/116 - 12s - loss: 0.1226 - acc: 0.9576 - val_loss: 1.2553 - val_acc: 0.6820\n",
            "Epoch 11/20\n",
            "116/116 - 12s - loss: 0.0984 - acc: 0.9671 - val_loss: 1.3047 - val_acc: 0.6699\n",
            "Epoch 12/20\n",
            "116/116 - 12s - loss: 0.0862 - acc: 0.9738 - val_loss: 1.4298 - val_acc: 0.6772\n",
            "Epoch 13/20\n",
            "116/116 - 12s - loss: 0.0676 - acc: 0.9765 - val_loss: 1.5300 - val_acc: 0.6869\n",
            "Epoch 14/20\n",
            "116/116 - 12s - loss: 0.0601 - acc: 0.9768 - val_loss: 1.6255 - val_acc: 0.6772\n",
            "Epoch 15/20\n",
            "116/116 - 12s - loss: 0.0857 - acc: 0.9779 - val_loss: 1.5625 - val_acc: 0.6772\n",
            "Epoch 16/20\n",
            "116/116 - 12s - loss: 0.0377 - acc: 0.9868 - val_loss: 1.6817 - val_acc: 0.6723\n",
            "Epoch 17/20\n",
            "116/116 - 12s - loss: 0.0660 - acc: 0.9822 - val_loss: 1.8067 - val_acc: 0.6699\n",
            "Epoch 18/20\n",
            "116/116 - 12s - loss: 0.0372 - acc: 0.9881 - val_loss: 1.7759 - val_acc: 0.6602\n",
            "Epoch 19/20\n",
            "116/116 - 12s - loss: 0.0386 - acc: 0.9895 - val_loss: 2.2059 - val_acc: 0.6675\n",
            "Epoch 20/20\n",
            "116/116 - 12s - loss: 0.0325 - acc: 0.9892 - val_loss: 2.0443 - val_acc: 0.6748\n"
          ],
          "name": "stdout"
        }
      ]
    },
    {
      "cell_type": "code",
      "metadata": {
        "id": "84K3JMBQ4XTL",
        "colab": {
          "base_uri": "https://localhost:8080/",
          "height": 573
        },
        "outputId": "a96fe7b8-62f1-4b7b-afd1-bb903dd94006"
      },
      "source": [
        "## Visualizing the loss\n",
        "plt.plot(history.history['acc'])\n",
        "plt.plot(history.history['val_acc'])\n",
        "plt.title('model accuracy')\n",
        "plt.ylabel('acc')\n",
        "plt.xlabel('epochs')\n",
        "plt.legend(['accuracy', 'validation accuracy'], loc='upper left')\n",
        "plt.show()\n",
        "\n",
        "# Summarize history for loss\n",
        "plt.plot(history.history['loss'])\n",
        "plt.plot(history.history['val_loss'])\n",
        "plt.title('model loss')\n",
        "plt.ylabel('loss')\n",
        "plt.xlabel('epochs')\n",
        "plt.legend(['loss', 'validation loss'], loc='upper left')\n",
        "plt.show()"
      ],
      "execution_count": 15,
      "outputs": [
        {
          "output_type": "display_data",
          "data": {
            "image/png": "[encoded data removed]",
            "text/plain": [
              "<Figure size 432x288 with 1 Axes>"
            ]
          },
          "metadata": {
            "needs_background": "light"
          }
        },
        {
          "output_type": "display_data",
          "data": {
            "image/png": "[encoded data removed]",
            "text/plain": [
              "<Figure size 432x288 with 1 Axes>"
            ]
          },
          "metadata": {
            "needs_background": "light"
          }
        }
      ]
    },
    {
      "cell_type": "code",
      "metadata": {
        "id": "EOFwkXPz5Qw2",
        "colab": {
          "base_uri": "https://localhost:8080/"
        },
        "outputId": "a7278501-706c-49ed-f01f-c64811d906b3"
      },
      "source": [
        "# Evaluate the model\n",
        "_, train_acc = model.evaluate(X_train, Y_train, verbose=2)\n",
        "_, test_acc = model.evaluate(X_test, Y_test, verbose=2)\n",
        "print('Train: %.3f, Test: %.4f' % (train_acc, test_acc))"
      ],
      "execution_count": 16,
      "outputs": [
        {
          "output_type": "stream",
          "text": [
            "129/129 - 4s - loss: 0.2206 - acc: 0.9607\n",
            "23/23 - 1s - loss: 1.7136 - acc: 0.7098\n",
            "Train: 0.961, Test: 0.7098\n"
          ],
          "name": "stdout"
        }
      ]
    },
    {
      "cell_type": "code",
      "metadata": {
        "id": "F7dBXHNj5UNK",
        "colab": {
          "base_uri": "https://localhost:8080/",
          "height": 350
        },
        "outputId": "52e10780-83fb-4605-b833-5631770596be"
      },
      "source": [
        "from sklearn.metrics import confusion_matrix\n",
        "\n",
        "# Labels\n",
        "rounded_labels=np.argmax(Y_test, axis=1)\n",
        "\n",
        "# Predict classes for test set\n",
        "yhat_probs = model.predict(X_test, verbose=0)\n",
        "yhat_classes = np.argmax(yhat_probs, axis=1)\n",
        "\n",
        "# Confusion Matrix\n",
        "lstm_val = confusion_matrix(rounded_labels, yhat_classes)\n",
        "f, ax = plt.subplots(figsize=(5,5))\n",
        "sns.heatmap(lstm_val, annot=True, linewidth=0.7, linecolor='cyan', fmt='g', ax=ax, cmap=\"BuPu\")\n",
        "plt.title('LSTM Classification Confusion Matrix')\n",
        "plt.xlabel('Y predict')\n",
        "plt.ylabel('Y test')\n",
        "plt.show()"
      ],
      "execution_count": 17,
      "outputs": [
        {
          "output_type": "display_data",
          "data": {
            "image/png": "[encoded data removed]",
            "text/plain": [
              "<Figure size 360x360 with 2 Axes>"
            ]
          },
          "metadata": {
            "needs_background": "light"
          }
        }
      ]
    },
    {
      "cell_type": "markdown",
      "metadata": {
        "id": "ahRRkDQi7tza"
      },
      "source": [
        "## Test the model"
      ]
    },
    {
      "cell_type": "code",
      "metadata": {
        "id": "FGTXK7vo6kiR",
        "colab": {
          "base_uri": "https://localhost:8080/"
        },
        "outputId": "e6699b76-086a-42bb-b6e7-ce48af985e36"
      },
      "source": [
        "message = ['Salesforce on record Q2: Products more relevant than ever']\n",
        "seq = tokenizer.texts_to_sequences(message)\n",
        "\n",
        "padded = pad_sequences(seq, maxlen=X.shape[1], dtype='int32', value=0)\n",
        "\n",
        "pred = model.predict(padded)\n",
        "\n",
        "labels = ['0','1','2']\n",
        "print(pred, labels[np.argmax(pred)])"
      ],
      "execution_count": 18,
      "outputs": [
        {
          "output_type": "stream",
          "text": [
            "[[9.9145108e-01 2.4783923e-04 8.3010523e-03]] 0\n"
          ],
          "name": "stdout"
        }
      ]
    }
  ]
}